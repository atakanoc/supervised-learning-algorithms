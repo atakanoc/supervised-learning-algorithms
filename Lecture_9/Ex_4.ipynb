{
 "cells": [
  {
   "cell_type": "markdown",
   "metadata": {
    "collapsed": true,
    "pycharm": {
     "name": "#%% md\n"
    }
   },
   "source": [
    "# Exercise 4 - Ensemble of Batman trees\n",
    "## Imports"
   ]
  },
  {
   "cell_type": "code",
   "execution_count": 30,
   "outputs": [
    {
     "name": "stdout",
     "output_type": "stream",
     "text": [
      "Current working directory:\n",
      "/Users/atakancoban/Desktop/School/2dv506 - Machine learning/Assignment 3/Lecture_9\n"
     ]
    }
   ],
   "source": [
    "import numpy as np\n",
    "from sklearn.tree import DecisionTreeClassifier\n",
    "from matplotlib import pyplot as plt\n",
    "import pickle\n",
    "import os\n",
    "print(\"Current working directory:\", os.getcwd(), sep=\"\\n\")\n",
    "\n",
    "# So that changes to the a3 model are reflected here.\n",
    "import a3\n",
    "import importlib\n",
    "importlib.reload(a3)\n",
    "import a3\n"
   ],
   "metadata": {
    "collapsed": false,
    "pycharm": {
     "name": "#%%\n"
    }
   }
  },
  {
   "cell_type": "markdown",
   "source": [
    "## Functions"
   ],
   "metadata": {
    "collapsed": false
   }
  },
  {
   "cell_type": "code",
   "execution_count": 31,
   "outputs": [],
   "source": [
    "def nonce():\n",
    "    pass"
   ],
   "metadata": {
    "collapsed": false,
    "pycharm": {
     "name": "#%%\n"
    }
   }
  },
  {
   "cell_type": "markdown",
   "source": [
    "## Part 1 - Prepare datasets"
   ],
   "metadata": {
    "collapsed": false,
    "pycharm": {
     "name": "#%% md\n"
    }
   }
  },
  {
   "cell_type": "code",
   "execution_count": 32,
   "outputs": [],
   "source": [
    "# Load bm.csv.\n",
    "data = np.loadtxt(\"datasets/bm.csv\", delimiter=',')\n",
    "np.random.shuffle(data)\n",
    "X_train, y_train = data[:5000, 0:2], data[:5000, 2]\n",
    "X_test, y_test = data[5000:, 0:2], data[5000:, 2]\n",
    "\n",
    "# Bootstrap 100 unique datasets.\n",
    "rng = np.random.default_rng()\n",
    "\n",
    "n = 5000\n",
    "#r = np.zeros([n, 100], dtype=int)  # TODO: Delete if not used\n",
    "XX = np.zeros([n, 2, 100])\n",
    "yy = np.zeros([n, 100], dtype=int)\n",
    "\n",
    "for i in range(100):\n",
    "    #r[:, i] = rng.choice(n, size=n, replace=True)  # TODO: Delete if not used\n",
    "    idxs = rng.choice(n, size=n, replace=True)\n",
    "    XX[:, :, i] = X_train[idxs, :]\n",
    "    yy[:, i] = y_train[idxs]"
   ],
   "metadata": {
    "collapsed": false,
    "pycharm": {
     "name": "#%%\n"
    }
   }
  },
  {
   "cell_type": "markdown",
   "source": [
    "## Part 2 - Train model and evaluate"
   ],
   "metadata": {
    "collapsed": false,
    "pycharm": {
     "name": "#%% md\n"
    }
   }
  },
  {
   "cell_type": "code",
   "execution_count": 37,
   "outputs": [
    {
     "name": "stdout",
     "output_type": "stream",
     "text": [
      "Ensemble accuracy: 97.84%\n",
      "Average individual decision tree accuracy: 96.66%\n"
     ]
    }
   ],
   "source": [
    "# Train model.\n",
    "clfs = []\n",
    "for i in range(100):\n",
    "    clfs.append(DecisionTreeClassifier().fit(XX[:,:,i], yy[:,i]))\n",
    "\n",
    "# Evaluation.\n",
    "def test_accuracy(X_test, y_test, y_test_pred):\n",
    "    y_diff = y_test - y_test_pred\n",
    "    y_diff = (y_diff**2)**0.5\n",
    "    error_count = np.sum(y_diff)\n",
    "    return (X_test.shape[0] - error_count) / X_test.shape[0]\n",
    "\n",
    "# Ensemble accuracy.\n",
    "y_test_pred = a3.ensemble_predict_binary(clfs, X_test)\n",
    "accuracy = round(test_accuracy(X_test, y_test, y_test_pred)*100, 2)\n",
    "print(f\"Ensemble accuracy: {accuracy}%\")\n",
    "\n",
    "# Average individual decision tree accuracy.\n",
    "total = 0\n",
    "for clf in clfs:\n",
    "    y_test_pred = clf.predict(X_test)\n",
    "    total += test_accuracy(X_test, y_test, y_test_pred)\n",
    "accuracy = round((total/len(clfs))*100, 2)\n",
    "print(f\"Average individual decision tree accuracy: {accuracy}%\")\n"
   ],
   "metadata": {
    "collapsed": false,
    "pycharm": {
     "name": "#%%\n"
    }
   }
  }
 ],
 "metadata": {
  "kernelspec": {
   "display_name": "Python 3",
   "language": "python",
   "name": "python3"
  },
  "language_info": {
   "codemirror_mode": {
    "name": "ipython",
    "version": 2
   },
   "file_extension": ".py",
   "mimetype": "text/x-python",
   "name": "python",
   "nbconvert_exporter": "python",
   "pygments_lexer": "ipython2",
   "version": "2.7.6"
  }
 },
 "nbformat": 4,
 "nbformat_minor": 0
}