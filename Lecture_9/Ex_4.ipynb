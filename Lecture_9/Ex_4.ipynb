{
 "cells": [
  {
   "cell_type": "markdown",
   "metadata": {
    "collapsed": true,
    "pycharm": {
     "name": "#%% md\n"
    }
   },
   "source": [
    "# Exercise 4 - Ensemble of Batman trees\n",
    "## Imports"
   ]
  },
  {
   "cell_type": "code",
   "execution_count": 64,
   "outputs": [
    {
     "name": "stdout",
     "output_type": "stream",
     "text": [
      "Current working directory:\n",
      "/Users/atakancoban/Desktop/School/2dv506 - Machine learning/Assignment 3/Lecture_9\n"
     ]
    }
   ],
   "source": [
    "import numpy as np\n",
    "from sklearn.tree import DecisionTreeClassifier\n",
    "from matplotlib import pyplot as plt\n",
    "import pickle\n",
    "import os\n",
    "print(\"Current working directory:\", os.getcwd(), sep=\"\\n\")\n",
    "\n",
    "# So that changes to the a3 model are reflected here.\n",
    "import a3\n",
    "import importlib\n",
    "importlib.reload(a3)\n",
    "import a3\n"
   ],
   "metadata": {
    "collapsed": false,
    "pycharm": {
     "name": "#%%\n"
    }
   }
  },
  {
   "cell_type": "markdown",
   "source": [
    "## Functions"
   ],
   "metadata": {
    "collapsed": false
   }
  },
  {
   "cell_type": "code",
   "execution_count": 65,
   "outputs": [],
   "source": [
    "def nonce():\n",
    "    pass"
   ],
   "metadata": {
    "collapsed": false,
    "pycharm": {
     "name": "#%%\n"
    }
   }
  },
  {
   "cell_type": "markdown",
   "source": [
    "## Part 1 - Prepare datasets"
   ],
   "metadata": {
    "collapsed": false,
    "pycharm": {
     "name": "#%% md\n"
    }
   }
  },
  {
   "cell_type": "code",
   "execution_count": 66,
   "outputs": [],
   "source": [
    "# Load bm.csv.\n",
    "data = np.loadtxt(\"datasets/bm.csv\", delimiter=',')\n",
    "np.random.shuffle(data)\n",
    "X_train, y_train = data[:5000, 0:2], data[:5000, 2]\n",
    "X_test, y_test = data[5000:, 0:2], data[5000:, 2]\n",
    "\n",
    "# Bootstrap 100 unique datasets.\n",
    "rng = np.random.default_rng()\n",
    "\n",
    "n = 5000\n",
    "#r = np.zeros([n, 100], dtype=int)  # TODO: Delete if not used\n",
    "XX = np.zeros([n, 2, 100])\n",
    "yy = np.zeros([n, 100], dtype=int)\n",
    "\n",
    "for i in range(100):\n",
    "    #r[:, i] = rng.choice(n, size=n, replace=True)  # TODO: Delete if not used\n",
    "    idxs = rng.choice(n, size=n, replace=True)\n",
    "    XX[:, :, i] = X_train[idxs, :]\n",
    "    yy[:, i] = y_train[idxs]"
   ],
   "metadata": {
    "collapsed": false,
    "pycharm": {
     "name": "#%%\n"
    }
   }
  },
  {
   "cell_type": "markdown",
   "source": [
    "## Part 2 - Train model and calculate performance"
   ],
   "metadata": {
    "collapsed": false,
    "pycharm": {
     "name": "#%% md\n"
    }
   }
  },
  {
   "cell_type": "code",
   "execution_count": 67,
   "outputs": [
    {
     "name": "stdout",
     "output_type": "stream",
     "text": [
      "Ensemble accuracy: 98.24%\n",
      "Average individual decision tree accuracy: 96.74%\n"
     ]
    }
   ],
   "source": [
    "# Train model.\n",
    "clfs = []\n",
    "for i in range(100):\n",
    "    clfs.append(DecisionTreeClassifier().fit(XX[:,:,i], yy[:,i]))\n",
    "\n",
    "# Evaluation.\n",
    "def test_accuracy(X_test, y_test, y_test_pred):\n",
    "    y_diff = y_test - y_test_pred\n",
    "    y_diff = (y_diff**2)**0.5\n",
    "    error_count = np.sum(y_diff)\n",
    "    return (X_test.shape[0] - error_count) / X_test.shape[0]\n",
    "\n",
    "# Ensemble accuracy.\n",
    "y_test_pred = a3.ensemble_predict_binary(clfs, X_test)\n",
    "accuracy = round(test_accuracy(X_test, y_test, y_test_pred)*100, 2)\n",
    "print(f\"Ensemble accuracy: {accuracy}%\")\n",
    "\n",
    "# Average individual decision tree accuracy.\n",
    "total = 0\n",
    "for clf in clfs:\n",
    "    y_test_pred = clf.predict(X_test)\n",
    "    total += test_accuracy(X_test, y_test, y_test_pred)\n",
    "accuracy = round((total/len(clfs))*100, 2)\n",
    "print(f\"Average individual decision tree accuracy: {accuracy}%\")"
   ],
   "metadata": {
    "collapsed": false,
    "pycharm": {
     "name": "#%%\n"
    }
   }
  },
  {
   "cell_type": "markdown",
   "source": [
    "## Part 3 - Prepare decision boundaries for individual classifiers"
   ],
   "metadata": {
    "collapsed": false,
    "pycharm": {
     "name": "#%% md\n"
    }
   }
  },
  {
   "cell_type": "code",
   "execution_count": null,
   "outputs": [
    {
     "name": "stdout",
     "output_type": "stream",
     "text": [
      "Calculating boundaries for classifier 0\n",
      "Calculating boundaries for classifier 1\n",
      "Calculating boundaries for classifier 2\n",
      "Calculating boundaries for classifier 3\n",
      "Calculating boundaries for classifier 4\n",
      "Calculating boundaries for classifier 5\n",
      "Calculating boundaries for classifier 6\n",
      "Calculating boundaries for classifier 7\n",
      "Calculating boundaries for classifier 8\n",
      "Calculating boundaries for classifier 9\n",
      "Calculating boundaries for classifier 10\n",
      "Calculating boundaries for classifier 11\n",
      "Calculating boundaries for classifier 12\n",
      "Calculating boundaries for classifier 13\n",
      "Calculating boundaries for classifier 14\n",
      "Calculating boundaries for classifier 15\n",
      "Calculating boundaries for classifier 16\n",
      "Calculating boundaries for classifier 17\n",
      "Calculating boundaries for classifier 18\n",
      "Calculating boundaries for classifier 19\n",
      "Calculating boundaries for classifier 20\n",
      "Calculating boundaries for classifier 21\n",
      "Calculating boundaries for classifier 22\n",
      "Calculating boundaries for classifier 23\n",
      "Calculating boundaries for classifier 24\n",
      "Calculating boundaries for classifier 25\n",
      "Calculating boundaries for classifier 26\n",
      "Calculating boundaries for classifier 27\n",
      "Calculating boundaries for classifier 28\n",
      "Calculating boundaries for classifier 29\n",
      "Calculating boundaries for classifier 30\n",
      "Calculating boundaries for classifier 31\n",
      "Calculating boundaries for classifier 32\n",
      "Calculating boundaries for classifier 33\n",
      "Calculating boundaries for classifier 34\n",
      "Calculating boundaries for classifier 35\n",
      "Calculating boundaries for classifier 36\n",
      "Calculating boundaries for classifier 37\n",
      "Calculating boundaries for classifier 38\n",
      "Calculating boundaries for classifier 39\n",
      "Calculating boundaries for classifier 40\n",
      "Calculating boundaries for classifier 41\n",
      "Calculating boundaries for classifier 42\n",
      "Calculating boundaries for classifier 43\n",
      "Calculating boundaries for classifier 44\n",
      "Calculating boundaries for classifier 45\n",
      "Calculating boundaries for classifier 46\n",
      "Calculating boundaries for classifier 47\n",
      "Calculating boundaries for classifier 48\n",
      "Calculating boundaries for classifier 49\n",
      "Calculating boundaries for classifier 50\n",
      "Calculating boundaries for classifier 51\n",
      "Calculating boundaries for classifier 52\n",
      "Calculating boundaries for classifier 53\n"
     ]
    }
   ],
   "source": [
    "# Takes a couple minutes.\n",
    "boundaries = []\n",
    "\n",
    "# Prepare decision boundaries.\n",
    "for plot in range(100):\n",
    "    print(f\"Calculating boundaries for classifier {plot}\")\n",
    "\n",
    "    # Prepare meshgrid.\n",
    "    x_min, x_max, x_step = -9, 9, 0.05\n",
    "    y_min, y_max, y_step = -5, 5, 0.05\n",
    "    xx, yy = np.meshgrid(np.arange(x_min, x_max, x_step), np.arange(y_min, y_max, y_step))\n",
    "    zz = np.zeros(xx.shape)\n",
    "\n",
    "    # Predict for each point in meshgrid.\n",
    "    for i in range(zz.shape[0]):\n",
    "        for j in range(zz.shape[1]):\n",
    "            test = np.array([[xx[i,j], yy[i,j]]])\n",
    "            zz[i, j] = clfs[plot].predict(test)\n",
    "\n",
    "    # Save boundary points.\n",
    "    boundaries.append((xx, yy, zz))"
   ],
   "metadata": {
    "collapsed": false,
    "pycharm": {
     "name": "#%%\n",
     "is_executing": true
    }
   }
  },
  {
   "cell_type": "markdown",
   "source": [
    "## Part 4 - Plot decision boundaries for individual classifiers"
   ],
   "metadata": {
    "collapsed": false,
    "pycharm": {
     "name": "#%% md\n"
    }
   }
  },
  {
   "cell_type": "code",
   "execution_count": null,
   "outputs": [],
   "source": [
    "fig = plt.figure(figsize=(20,20))\n",
    "\n",
    "# Plot for each classifier.\n",
    "for i in range(100):\n",
    "    print(f\"Plotting classifier #{i}\")\n",
    "\n",
    "    xx, yy, zz = boundaries[i]\n",
    "    ax = fig.add_subplot(10, 10, i+1)\n",
    "    ax.contour(xx, yy, zz, alpha=0.4, cmap=\"Reds\")"
   ],
   "metadata": {
    "collapsed": false,
    "pycharm": {
     "name": "#%%\n",
     "is_executing": true
    }
   }
  },
  {
   "cell_type": "markdown",
   "source": [
    "## Part 5 - Prepare decision boundaries for the ensemble"
   ],
   "metadata": {
    "collapsed": false
   }
  },
  {
   "cell_type": "markdown",
   "source": [
    "## Part 6 - Plot decision boundaries for the ensemble"
   ],
   "metadata": {
    "collapsed": false
   }
  }
 ],
 "metadata": {
  "kernelspec": {
   "display_name": "Python 3",
   "language": "python",
   "name": "python3"
  },
  "language_info": {
   "codemirror_mode": {
    "name": "ipython",
    "version": 2
   },
   "file_extension": ".py",
   "mimetype": "text/x-python",
   "name": "python",
   "nbconvert_exporter": "python",
   "pygments_lexer": "ipython2",
   "version": "2.7.6"
  }
 },
 "nbformat": 4,
 "nbformat_minor": 0
}