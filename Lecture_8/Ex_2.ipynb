{
 "cells": [
  {
   "cell_type": "markdown",
   "metadata": {},
   "source": [
    "# Exercise 2 - One-vs-all MNIST\n",
    "## Imports"
   ]
  },
  {
   "cell_type": "code",
   "execution_count": 7,
   "metadata": {
    "pycharm": {
     "name": "#%%\n"
    }
   },
   "outputs": [
    {
     "name": "stdout",
     "output_type": "stream",
     "text": [
      "Current working directory:\n",
      "/Users/atakancoban/Desktop/School/2dv506 - Machine learning/Assignment 3/Lecture_8\n"
     ]
    }
   ],
   "source": [
    "import numpy as np\n",
    "from sklearn.svm import SVC\n",
    "from sklearn.model_selection import GridSearchCV\n",
    "from sklearn.multiclass import OneVsOneClassifier\n",
    "from sklearn.model_selection import cross_val_score\n",
    "from matplotlib import pyplot as plt\n",
    "import pickle\n",
    "import os\n",
    "print(\"Current working directory:\", os.getcwd(), sep=\"\\n\")\n",
    "\n",
    "# So that changes to the a3 model are reflected here.\n",
    "import a3\n",
    "import importlib\n",
    "importlib.reload(a3)\n",
    "import a3\n"
   ]
  },
  {
   "cell_type": "markdown",
   "metadata": {
    "pycharm": {
     "name": "#%% md\n"
    }
   },
   "source": [
    "## Functions"
   ]
  },
  {
   "cell_type": "code",
   "execution_count": 8,
   "metadata": {
    "pycharm": {
     "name": "#%%\n"
    }
   },
   "outputs": [],
   "source": [
    "def predict(clfs, test):\n",
    "    preds = []\n",
    "    for i in range(len(clfs)):\n",
    "        print(clfs[i].predict(test))\n",
    "        if clfs[i].predict(test) == 1:\n",
    "            preds.append(i)\n",
    "\n",
    "def save_pickle(file_path, data):\n",
    "    file = open(file_path, 'ab')\n",
    "    pickle.dump(data, file)\n",
    "    file.close()\n",
    "\n",
    "def load_pickle(file_path):\n",
    "    file = open(file_path, 'rb')\n",
    "    data = pickle.load(file)\n",
    "    file.close()\n",
    "    return data"
   ]
  },
  {
   "cell_type": "markdown",
   "metadata": {
    "pycharm": {
     "name": "#%% md\n"
    }
   },
   "source": [
    "## Part 1 - Load & trim MNIST dataset"
   ]
  },
  {
   "cell_type": "code",
   "execution_count": 9,
   "metadata": {
    "pycharm": {
     "name": "#%%\n"
    }
   },
   "outputs": [],
   "source": [
    "X_train, y_train, X_test, y_test = a3.mnist()\n",
    "\n",
    "# Trim data.\n",
    "trim = True\n",
    "if trim:\n",
    "    train_size = 10000\n",
    "    test_size = 10000\n",
    "    X_train, y_train = X_train[:train_size, :], y_train[:train_size, :]\n",
    "    X_test, y_test = X_test[:test_size, :], y_test[:test_size, :]"
   ]
  },
  {
   "cell_type": "markdown",
   "metadata": {
    "pycharm": {
     "name": "#%% md\n"
    }
   },
   "source": [
    "## Part 2 - Train or load SVMs for each class"
   ]
  },
  {
   "cell_type": "code",
   "execution_count": 10,
   "metadata": {
    "pycharm": {
     "name": "#%%\n"
    }
   },
   "outputs": [],
   "source": [
    "# Loading makes results fail on my laptop atm.\n",
    "# True to load from disk, False to train models.\n",
    "load_clfs = True\n",
    "\n",
    "C = 10\n",
    "gamma = 0.01\n",
    "\n",
    "if load_clfs:\n",
    "    clfs = load_pickle('pickles/clfs.pickle')\n",
    "else:\n",
    "    # Train model for each class\n",
    "    clfs = []\n",
    "    for col in range(y_train.shape[1]):\n",
    "        print(\"Training model for class\", col)\n",
    "        clf = SVC(C=C, gamma=gamma).fit(X_train, y_train[:, col])\n",
    "        clfs.append(clf)\n",
    "    print()\n",
    "\n",
    "    save_pickle('pickles/clfs.pickle', clfs)"
   ]
  },
  {
   "cell_type": "markdown",
   "metadata": {
    "pycharm": {
     "name": "#%% md\n"
    }
   },
   "source": [
    "## Part 3 - Fit classifiers into OneVsAll Classifier\n",
    "### Note\n",
    "If the one-vs-all classifier predicts multiple digits but is still correct for one of them, it is considered as an\n",
    "accurate prediction."
   ]
  },
  {
   "cell_type": "code",
   "execution_count": 11,
   "metadata": {
    "pycharm": {
     "name": "#%%\n"
    }
   },
   "outputs": [
    {
     "name": "stdout",
     "output_type": "stream",
     "text": [
      "Calculating test errors for OneVsAll...\n",
      "709 errors out of 10000 predictions\n",
      "Accuracy = 92.9%\n"
     ]
    }
   ],
   "source": [
    "# Loading makes results fail on my laptop atm.\n",
    "load_y_pred_ova = False\n",
    "\n",
    "# Train/load OneVsAll classifier and predict training samples.\n",
    "ova_clf = a3.OneVsAllClassifier(clfs)\n",
    "\n",
    "print(\"Calculating test errors for OneVsAll...\")\n",
    "if load_y_pred_ova:\n",
    "    y_pred_ova = load_pickle(\"pickles/y_pred_ova.pickle\")\n",
    "else:\n",
    "    y_pred_ova = ova_clf.predict(X_test)\n",
    "    save_pickle(\"pickles/y_pred_ova.pickle\", y_pred_ova)\n",
    "\n",
    "# Calculate error count.\n",
    "y_diff_ova = y_test - y_pred_ova\n",
    "pred_count = int(y_test.shape[0])\n",
    "error_ova = np.where(y_diff_ova == 1)[0].shape[0]\n",
    "print(f\"{error_ova} errors out of {pred_count} predictions\")\n",
    "\n",
    "# Calculate accuracy.\n",
    "accuracy_ova = round((pred_count - error_ova) / pred_count, 3)\n",
    "print(f\"Accuracy = {accuracy_ova*100}%\")"
   ]
  },
  {
   "cell_type": "markdown",
   "metadata": {
    "pycharm": {
     "name": "#%% md\n"
    }
   },
   "source": [
    "## Part 4 - Train sklearn one-vs-one SVC"
   ]
  },
  {
   "cell_type": "code",
   "execution_count": 12,
   "metadata": {
    "pycharm": {
     "name": "#%%\n"
    }
   },
   "outputs": [
    {
     "name": "stdout",
     "output_type": "stream",
     "text": [
      "Training OneVsOne classifier\n",
      "Done...\n",
      "\n",
      "Calculating test errors for OneVsOne...\n",
      "349 errors out of 10000 predictions\n",
      "Accuracy = 96.5%\n"
     ]
    }
   ],
   "source": [
    "load_y_pred_ovo = False\n",
    "\n",
    "# Reformat y from 2d to 1d to work with sklearn one-vs-one classifier.\n",
    "# True to load from disk, False to train models.\n",
    "y_train_ovo = np.zeros(y_train.shape[0])\n",
    "for i in range(y_train.shape[0]):\n",
    "    y_train_ovo[i] = np.where(y_train[i] == 1)[0][0]\n",
    "\n",
    "print(\"Training OneVsOne classifier\")\n",
    "# Train/load OneVsOne classifier and predict training samples.\n",
    "ovo_clf = OneVsOneClassifier(SVC(C=C, gamma=gamma)).fit(X_train, y_train_ovo)\n",
    "print(\"Done...\\n\")\n",
    "\n",
    "print(\"Calculating test errors for OneVsOne...\")\n",
    "\n",
    "y_test_ovo = np.zeros(y_test.shape[0])\n",
    "for i in range(y_test.shape[0]):\n",
    "    y_test_ovo[i] = np.where(y_test[i] == 1)[0][0]\n",
    "\n",
    "if load_y_pred_ovo:\n",
    "    y_pred_ovo = load_pickle(\"pickles/y_pred_ovo.pickle\")\n",
    "else:\n",
    "    y_pred_ovo = ovo_clf.predict(X_test)\n",
    "    save_pickle(\"pickles/y_pred_ovo.pickle\", y_pred_ovo)\n",
    "\n",
    "# Error count.\n",
    "y_diff_ovo = (y_test_ovo != y_pred_ovo).astype(int)\n",
    "error_ovo = np.sum(y_diff_ovo)\n",
    "print(f\"{error_ovo} errors out of {pred_count} predictions\")\n",
    "\n",
    "# Calculate accuracy.\n",
    "accuracy_ovo = round((pred_count - error_ovo) / pred_count, 3)\n",
    "print(f\"Accuracy = {accuracy_ovo*100}%\")"
   ]
  },
  {
   "cell_type": "markdown",
   "source": [
    "## Part 5 - Evaluation of multi-class classification choices"
   ],
   "metadata": {
    "collapsed": false,
    "pycharm": {
     "name": "#%% md\n"
    }
   }
  },
  {
   "cell_type": "code",
   "execution_count": 13,
   "outputs": [],
   "source": [
    "# TODO: Create confusion matrix and evaluate both models (Why are they so accurate?!?! maybe you can upgrade dataset size)."
   ],
   "metadata": {
    "collapsed": false,
    "pycharm": {
     "name": "#%%\n"
    }
   }
  }
 ],
 "metadata": {
  "kernelspec": {
   "display_name": "Python 3 (ipykernel)",
   "language": "python",
   "name": "python3"
  },
  "language_info": {
   "codemirror_mode": {
    "name": "ipython",
    "version": 3
   },
   "file_extension": ".py",
   "mimetype": "text/x-python",
   "name": "python",
   "nbconvert_exporter": "python",
   "pygments_lexer": "ipython3",
   "version": "3.9.7"
  }
 },
 "nbformat": 4,
 "nbformat_minor": 1
}