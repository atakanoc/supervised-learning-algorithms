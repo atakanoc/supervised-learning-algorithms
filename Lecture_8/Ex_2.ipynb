{
 "cells": [
  {
   "cell_type": "markdown",
   "source": [
    "# Exercise 2 - One-vs-all MNIST\n",
    "## Imports"
   ],
   "metadata": {
    "collapsed": false
   }
  },
  {
   "cell_type": "code",
   "execution_count": 29,
   "outputs": [],
   "source": [
    "import numpy as np\n",
    "\n",
    "# So that changes to the a2 model are reflected here.\n",
    "import a3\n",
    "import importlib\n",
    "importlib.reload(a3)\n",
    "import a3\n",
    "from sklearn.svm import SVC\n",
    "from sklearn.model_selection import GridSearchCV\n",
    "from sklearn.datasets import load_digits\n",
    "from matplotlib import pyplot as plt\n",
    "import pickle"
   ],
   "metadata": {
    "collapsed": false,
    "pycharm": {
     "name": "#%%\n"
    }
   }
  },
  {
   "cell_type": "markdown",
   "source": [
    "## Functions"
   ],
   "metadata": {
    "collapsed": false,
    "pycharm": {
     "name": "#%% md\n"
    }
   }
  },
  {
   "cell_type": "code",
   "execution_count": 30,
   "outputs": [],
   "source": [
    "def predict(clfs, test):\n",
    "    preds = []\n",
    "    for i in range(len(clfs)):\n",
    "        print(clfs[i].predict(test))\n",
    "        if clfs[i].predict(test) == 1:\n",
    "            preds.append(i)\n",
    "\n",
    "def save_pickle(file_path, data):\n",
    "    file = open(file_path, 'ab')\n",
    "    pickle.dump(data, file)\n",
    "    file.close()\n",
    "\n",
    "def load_pickle(file_path):\n",
    "    file = open(file_path, 'rb')\n",
    "    data = pickle.load(file)\n",
    "    file.close()\n",
    "    return data"
   ],
   "metadata": {
    "collapsed": false,
    "pycharm": {
     "name": "#%%\n"
    }
   }
  },
  {
   "cell_type": "markdown",
   "source": [
    "## Part 1 - Load & trim MNIST dataset"
   ],
   "metadata": {
    "collapsed": false,
    "pycharm": {
     "name": "#%% md\n"
    }
   }
  },
  {
   "cell_type": "code",
   "execution_count": 31,
   "outputs": [],
   "source": [
    "X_train, y_train, X_test, y_test = a3.mnist()\n",
    "\n",
    "# Trim data.\n",
    "train_size = 1000\n",
    "test_size = 1000\n",
    "X_train, y_train = X_train[:train_size, :], y_train[:train_size, :]\n",
    "X_test, y_test = X_test[:test_size, :], y_test[:test_size, :]"
   ],
   "metadata": {
    "collapsed": false,
    "pycharm": {
     "name": "#%%\n"
    }
   }
  },
  {
   "cell_type": "markdown",
   "source": [
    "## Part 2 - Train or load SVMs"
   ],
   "metadata": {
    "collapsed": false,
    "pycharm": {
     "name": "#%% md\n"
    }
   }
  },
  {
   "cell_type": "code",
   "execution_count": 32,
   "outputs": [
    {
     "name": "stdout",
     "output_type": "stream",
     "text": [
      "Accuracy for each digit response classifier:\n",
      "0: 0.991%\n",
      "1: 0.992%\n",
      "2: 0.977%\n",
      "3: 0.983%\n",
      "4: 0.979%\n",
      "5: 0.979%\n",
      "6: 0.985%\n",
      "7: 0.975%\n",
      "8: 0.971%\n",
      "9: 0.971%\n"
     ]
    }
   ],
   "source": [
    "# True to load from disk, False to train models again.\n",
    "load_grids = True\n",
    "\n",
    "if load_grids:\n",
    "    grids = load_pickle('pickles/grids.pickle')\n",
    "else:\n",
    "    params = {\n",
    "        'C' : [0.1, 1, 10, 100],\n",
    "        'gamma' : [1, 0.1, 0.01, 'scale', 'auto'],\n",
    "    }\n",
    "\n",
    "    # Perform grid search\n",
    "    grids = []\n",
    "    for col in range(y_train.shape[1]):\n",
    "        print(\"Training model for column\", col)\n",
    "        grid = GridSearchCV(SVC(), params, n_jobs=-1)\n",
    "        grid.fit(X_train, y_train[:, col])\n",
    "        grids.append(grid)\n",
    "\n",
    "    save_pickle('pickles/grids.pickle', grids)\n",
    "\n",
    "# Print classifier scores\n",
    "print(\"Cross validation accuracy for each digit response classifier:\")\n",
    "for i in range(len(grids)):\n",
    "    score = round(grids[i].best_score_, 3)\n",
    "    print(f\"{i}: {score}%\")\n",
    "\n",
    "clfs = [grid.best_estimator_ for grid in grids]"
   ],
   "metadata": {
    "collapsed": false,
    "pycharm": {
     "name": "#%%\n"
    }
   }
  }
 ],
 "metadata": {
  "kernelspec": {
   "display_name": "Python 3",
   "language": "python",
   "name": "python3"
  },
  "language_info": {
   "codemirror_mode": {
    "name": "ipython",
    "version": 2
   },
   "file_extension": ".py",
   "mimetype": "text/x-python",
   "name": "python",
   "nbconvert_exporter": "python",
   "pygments_lexer": "ipython2",
   "version": "2.7.6"
  }
 },
 "nbformat": 4,
 "nbformat_minor": 0
}